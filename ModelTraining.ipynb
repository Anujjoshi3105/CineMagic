{
 "cells": [
  {
   "cell_type": "markdown",
   "metadata": {},
   "source": [
    "# Recommendation Model Training"
   ]
  },
  {
   "cell_type": "code",
   "execution_count": 11,
   "id": "06fcede1-9997-4aa8-a1f5-911ba5f52de9",
   "metadata": {},
   "outputs": [],
   "source": [
    "import numpy as np\n",
    "import pandas as pd"
   ]
  },
  {
   "cell_type": "code",
   "execution_count": 12,
   "id": "d1f9b770-67b4-4238-8244-8750b6b69d8f",
   "metadata": {},
   "outputs": [
    {
     "data": {
      "text/html": [
       "<div>\n",
       "<style scoped>\n",
       "    .dataframe tbody tr th:only-of-type {\n",
       "        vertical-align: middle;\n",
       "    }\n",
       "\n",
       "    .dataframe tbody tr th {\n",
       "        vertical-align: top;\n",
       "    }\n",
       "\n",
       "    .dataframe thead th {\n",
       "        text-align: right;\n",
       "    }\n",
       "</style>\n",
       "<table border=\"1\" class=\"dataframe\">\n",
       "  <thead>\n",
       "    <tr style=\"text-align: right;\">\n",
       "      <th></th>\n",
       "      <th>imdbID</th>\n",
       "      <th>Title</th>\n",
       "      <th>Genres</th>\n",
       "      <th>Plot</th>\n",
       "      <th>Directors</th>\n",
       "      <th>Writers</th>\n",
       "      <th>Actors</th>\n",
       "      <th>Language</th>\n",
       "      <th>Country</th>\n",
       "      <th>Runtime</th>\n",
       "    </tr>\n",
       "  </thead>\n",
       "  <tbody>\n",
       "    <tr>\n",
       "      <th>tt0000013</th>\n",
       "      <td>The Photographical Congress Arrives in Lyon</td>\n",
       "      <td>Documentary, Short</td>\n",
       "      <td>The photographers who need to participate in t...</td>\n",
       "      <td>LouisLumière</td>\n",
       "      <td>AugusteLumière, P.J.C.Janssen</td>\n",
       "      <td>NaN</td>\n",
       "      <td>NaN</td>\n",
       "      <td>France</td>\n",
       "      <td>movie</td>\n",
       "      <td>['1']</td>\n",
       "    </tr>\n",
       "    <tr>\n",
       "      <th>tt0000005</th>\n",
       "      <td>Blacksmith Scene</td>\n",
       "      <td>Short, Comedy</td>\n",
       "      <td>Three men hammer on an anvil and pass a bottle...</td>\n",
       "      <td>WilliamK.L.Dickson</td>\n",
       "      <td>CharlesKayser, JohnOtt</td>\n",
       "      <td>NaN</td>\n",
       "      <td>NaN</td>\n",
       "      <td>United States</td>\n",
       "      <td>short</td>\n",
       "      <td>['1']</td>\n",
       "    </tr>\n",
       "    <tr>\n",
       "      <th>tt0000001</th>\n",
       "      <td>Carmencita</td>\n",
       "      <td>Documentary, Short</td>\n",
       "      <td>Performing on what looks like a small wooden s...</td>\n",
       "      <td>WilliamK.L.Dickson</td>\n",
       "      <td>Carmencita</td>\n",
       "      <td>NaN</td>\n",
       "      <td>NaN</td>\n",
       "      <td>United States</td>\n",
       "      <td>short</td>\n",
       "      <td>['1']</td>\n",
       "    </tr>\n",
       "    <tr>\n",
       "      <th>tt0000003</th>\n",
       "      <td>Poor Pierrot</td>\n",
       "      <td>Animation, Comedy, Short, Romance</td>\n",
       "      <td>One night, Arlequin come to see his lover Colo...</td>\n",
       "      <td>ÉmileReynaud</td>\n",
       "      <td>NaN</td>\n",
       "      <td>NaN</td>\n",
       "      <td>NaN</td>\n",
       "      <td>France</td>\n",
       "      <td>short</td>\n",
       "      <td>['4']</td>\n",
       "    </tr>\n",
       "    <tr>\n",
       "      <th>tt0000007</th>\n",
       "      <td>Corbett and Courtney Before the Kinetograph</td>\n",
       "      <td>Short, Sport</td>\n",
       "      <td>James J. Corbett and Peter Courtney meet in a ...</td>\n",
       "      <td>WilliamK.L.Dickson, WilliamHeise</td>\n",
       "      <td>JamesJ.Corbett, PeterCourtney</td>\n",
       "      <td>NaN</td>\n",
       "      <td>NaN</td>\n",
       "      <td>United States</td>\n",
       "      <td>short</td>\n",
       "      <td>['1']</td>\n",
       "    </tr>\n",
       "  </tbody>\n",
       "</table>\n",
       "</div>"
      ],
      "text/plain": [
       "                                                imdbID  \\\n",
       "tt0000013  The Photographical Congress Arrives in Lyon   \n",
       "tt0000005                             Blacksmith Scene   \n",
       "tt0000001                                   Carmencita   \n",
       "tt0000003                                 Poor Pierrot   \n",
       "tt0000007  Corbett and Courtney Before the Kinetograph   \n",
       "\n",
       "                                       Title  \\\n",
       "tt0000013                 Documentary, Short   \n",
       "tt0000005                      Short, Comedy   \n",
       "tt0000001                 Documentary, Short   \n",
       "tt0000003  Animation, Comedy, Short, Romance   \n",
       "tt0000007                       Short, Sport   \n",
       "\n",
       "                                                      Genres  \\\n",
       "tt0000013  The photographers who need to participate in t...   \n",
       "tt0000005  Three men hammer on an anvil and pass a bottle...   \n",
       "tt0000001  Performing on what looks like a small wooden s...   \n",
       "tt0000003  One night, Arlequin come to see his lover Colo...   \n",
       "tt0000007  James J. Corbett and Peter Courtney meet in a ...   \n",
       "\n",
       "                                       Plot                      Directors  \\\n",
       "tt0000013                      LouisLumière  AugusteLumière, P.J.C.Janssen   \n",
       "tt0000005                WilliamK.L.Dickson         CharlesKayser, JohnOtt   \n",
       "tt0000001                WilliamK.L.Dickson                     Carmencita   \n",
       "tt0000003                      ÉmileReynaud                            NaN   \n",
       "tt0000007  WilliamK.L.Dickson, WilliamHeise  JamesJ.Corbett, PeterCourtney   \n",
       "\n",
       "          Writers Actors       Language Country Runtime  \n",
       "tt0000013     NaN    NaN         France   movie   ['1']  \n",
       "tt0000005     NaN    NaN  United States   short   ['1']  \n",
       "tt0000001     NaN    NaN  United States   short   ['1']  \n",
       "tt0000003     NaN    NaN         France   short   ['4']  \n",
       "tt0000007     NaN    NaN  United States   short   ['1']  "
      ]
     },
     "execution_count": 12,
     "metadata": {},
     "output_type": "execute_result"
    }
   ],
   "source": [
    "movies = pd.read_csv('datasets/movieInfo.csv')\n",
    "movies.head()"
   ]
  },
  {
   "cell_type": "code",
   "execution_count": 13,
   "metadata": {},
   "outputs": [
    {
     "data": {
      "text/plain": [
       "(2215, 10)"
      ]
     },
     "execution_count": 13,
     "metadata": {},
     "output_type": "execute_result"
    }
   ],
   "source": [
    "movies.shape"
   ]
  },
  {
   "cell_type": "markdown",
   "metadata": {},
   "source": [
    "## [spaCy](https://spacy.io/)\n",
    "`spaCy` is a library for advanced **Natural Language Processing** in Python and Cython. It's built on the very latest research, and was designed from day one to be used in real products.\n",
    "\n",
    "`spaCy` comes with [pretrained pipelines](https://spacy.io/models) and currently supports tokenization and training for 70+ languages. It features state-of-the-art speed and neural network models for tagging, parsing, named entity recognition, text classification and more, multi-task learning with pretrained transformers like BERT, as well as a production-ready [training system](https://spacy.io/usage/training_) and easy model packaging, deployment and workflow management. spaCy is commercial open-source software, released under the [MIT license](https://github.com/explosion/spaCy/blob/master/LICENSE)"
   ]
  },
  {
   "cell_type": "code",
   "execution_count": 8,
   "metadata": {},
   "outputs": [
    {
     "name": "stdout",
     "output_type": "stream",
     "text": [
      "Name: spacy\n",
      "Version: 3.7.2\n",
      "Summary: Industrial-strength Natural Language Processing (NLP) in Python\n",
      "Home-page: https://spacy.io\n",
      "Author: Explosion\n",
      "Author-email: contact@explosion.ai\n",
      "License: MIT\n",
      "Location: C:\\Users\\anujj\\AppData\\Local\\Programs\\Python\\Python311\\Lib\\site-packages\n",
      "Requires: catalogue, cymem, jinja2, langcodes, murmurhash, numpy, packaging, preshed, pydantic, requests, setuptools, smart-open, spacy-legacy, spacy-loggers, srsly, thinc, tqdm, typer, wasabi, weasel\n",
      "Required-by: en-core-web-sm\n",
      "\u001b[1m\n",
      "==================== Info about pipeline 'en_core_web_sm' ====================\u001b[0m\n",
      "\n",
      "lang                en                            \n",
      "name                core_web_sm                   \n",
      "version             3.7.0                         \n",
      "description         English pipeline optimized for CPU. Components: tok2vec, tagger, parser, senter, ner, attribute_ruler, lemmatizer.\n",
      "author              Explosion                     \n",
      "email               contact@explosion.ai          \n",
      "url                 https://explosion.ai          \n",
      "license             MIT                           \n",
      "spacy_version       >=3.7.0,<3.8.0                \n",
      "spacy_git_version   6b4f77441                     \n",
      "vectors             {'width': 0, 'vectors': 0, 'keys': 0, 'name': None}\n",
      "pipeline            ['tok2vec', 'tagger', 'parser', 'attribute_ruler', 'lemmatizer', 'ner']\n",
      "components          ['tok2vec', 'tagger', 'parser', 'senter', 'attribute_ruler', 'lemmatizer', 'ner']\n",
      "disabled            ['senter']                    \n",
      "sources             [{'name': 'OntoNotes 5', 'url': 'https://catalog.ldc.upenn.edu/LDC2013T19', 'license': 'commercial (licensed by Explosion)', 'author': 'Ralph Weischedel, Martha Palmer, Mitchell Marcus, Eduard Hovy, Sameer Pradhan, Lance Ramshaw, Nianwen Xue, Ann Taylor, Jeff Kaufman, Michelle Franchini, Mohammed El-Bachouti, Robert Belvin, Ann Houston'}, {'name': 'ClearNLP Constituent-to-Dependency Conversion', 'url': 'https://github.com/clir/clearnlp-guidelines/blob/master/md/components/dependency_conversion.md', 'license': 'Citation provided for reference, no code packaged with model', 'author': 'Emory University'}, {'name': 'WordNet 3.0', 'url': 'https://wordnet.princeton.edu/', 'author': 'Princeton University', 'license': 'WordNet 3.0 License'}]\n",
      "requirements        []                            \n",
      "source              c:\\Users\\anujj\\AppData\\Local\\Programs\\Python\\Python311\\Lib\\site-packages\\en_core_web_sm\n",
      "download_url        https://github.com/explosion/spacy-models/releases/download/en_core_web_sm-3.7.0/en_core_web_sm-3.7.0-py3-none-any.whl\n",
      "\n"
     ]
    }
   ],
   "source": [
    "try:\n",
    "    !pip show spacy\n",
    "    !python -m spacy info en_core_web_sm\n",
    "except:\n",
    "    !pip install spacy\n",
    "    !python -m spacy download en_core_web_sm"
   ]
  },
  {
   "cell_type": "code",
   "execution_count": 9,
   "id": "1f580924",
   "metadata": {},
   "outputs": [],
   "source": [
    "import spacy\n",
    "\n",
    "# Load the English language model\n",
    "nlp = spacy.load('en_core_web_sm')\n",
    "\n",
    "def extract_and_combine_keywords(plot, title):\n",
    "    doc_plot = nlp(plot)\n",
    "    doc_title = nlp(title)\n",
    "\n",
    "    keywords_plot = [token.text for token in doc_plot if token.is_alpha and not token.is_stop]\n",
    "    keywords_title = [token.text for token in doc_title if token.is_alpha and not token.is_stop]\n",
    "\n",
    "    combined_keywords = keywords_plot + keywords_title\n",
    "    return \", \".join(combined_keywords)  # Join keywords into comma-separated string\n",
    "\n",
    "movies['Keywords'] = movies.apply(lambda row: extract_and_combine_keywords(row['Plot'], row['Title']), axis=1)"
   ]
  },
  {
   "cell_type": "code",
   "execution_count": 10,
   "id": "76c301a8",
   "metadata": {},
   "outputs": [
    {
     "data": {
      "text/html": [
       "<div>\n",
       "<style scoped>\n",
       "    .dataframe tbody tr th:only-of-type {\n",
       "        vertical-align: middle;\n",
       "    }\n",
       "\n",
       "    .dataframe tbody tr th {\n",
       "        vertical-align: top;\n",
       "    }\n",
       "\n",
       "    .dataframe thead th {\n",
       "        text-align: right;\n",
       "    }\n",
       "</style>\n",
       "<table border=\"1\" class=\"dataframe\">\n",
       "  <thead>\n",
       "    <tr style=\"text-align: right;\">\n",
       "      <th></th>\n",
       "      <th>imdbID</th>\n",
       "      <th>Title</th>\n",
       "      <th>Genres</th>\n",
       "      <th>Plot</th>\n",
       "      <th>Directors</th>\n",
       "      <th>Writers</th>\n",
       "      <th>Actors</th>\n",
       "      <th>Language</th>\n",
       "      <th>Country</th>\n",
       "      <th>Runtime</th>\n",
       "      <th>Keywords</th>\n",
       "      <th>Tags</th>\n",
       "    </tr>\n",
       "  </thead>\n",
       "  <tbody>\n",
       "    <tr>\n",
       "      <th>tt0000013</th>\n",
       "      <td>The Photographical Congress Arrives in Lyon</td>\n",
       "      <td>Documentary, Short</td>\n",
       "      <td>The photographers who need to participate in t...</td>\n",
       "      <td>LouisLumière</td>\n",
       "      <td>AugusteLumière, P.J.C.Janssen</td>\n",
       "      <td>NaN</td>\n",
       "      <td>NaN</td>\n",
       "      <td>France</td>\n",
       "      <td>movie</td>\n",
       "      <td>['1']</td>\n",
       "      <td>LouisLumière, Documentary, Short</td>\n",
       "      <td>LouisLumière, Documentary, Short The photograp...</td>\n",
       "    </tr>\n",
       "    <tr>\n",
       "      <th>tt0000005</th>\n",
       "      <td>Blacksmith Scene</td>\n",
       "      <td>Short, Comedy</td>\n",
       "      <td>Three men hammer on an anvil and pass a bottle...</td>\n",
       "      <td>WilliamK.L.Dickson</td>\n",
       "      <td>CharlesKayser, JohnOtt</td>\n",
       "      <td>NaN</td>\n",
       "      <td>NaN</td>\n",
       "      <td>United States</td>\n",
       "      <td>short</td>\n",
       "      <td>['1']</td>\n",
       "      <td>Short, Comedy</td>\n",
       "      <td>Short, Comedy Three men hammer on an anvil and...</td>\n",
       "    </tr>\n",
       "    <tr>\n",
       "      <th>tt0000001</th>\n",
       "      <td>Carmencita</td>\n",
       "      <td>Documentary, Short</td>\n",
       "      <td>Performing on what looks like a small wooden s...</td>\n",
       "      <td>WilliamK.L.Dickson</td>\n",
       "      <td>Carmencita</td>\n",
       "      <td>NaN</td>\n",
       "      <td>NaN</td>\n",
       "      <td>United States</td>\n",
       "      <td>short</td>\n",
       "      <td>['1']</td>\n",
       "      <td>Documentary, Short</td>\n",
       "      <td>Documentary, Short Performing on what looks li...</td>\n",
       "    </tr>\n",
       "    <tr>\n",
       "      <th>tt0000003</th>\n",
       "      <td>Poor Pierrot</td>\n",
       "      <td>Animation, Comedy, Short, Romance</td>\n",
       "      <td>One night, Arlequin come to see his lover Colo...</td>\n",
       "      <td>ÉmileReynaud</td>\n",
       "      <td>NaN</td>\n",
       "      <td>NaN</td>\n",
       "      <td>NaN</td>\n",
       "      <td>France</td>\n",
       "      <td>short</td>\n",
       "      <td>['4']</td>\n",
       "      <td>ÉmileReynaud, Animation, Comedy, Short, Romance</td>\n",
       "      <td>ÉmileReynaud, Animation, Comedy, Short, Romanc...</td>\n",
       "    </tr>\n",
       "    <tr>\n",
       "      <th>tt0000007</th>\n",
       "      <td>Corbett and Courtney Before the Kinetograph</td>\n",
       "      <td>Short, Sport</td>\n",
       "      <td>James J. Corbett and Peter Courtney meet in a ...</td>\n",
       "      <td>WilliamK.L.Dickson, WilliamHeise</td>\n",
       "      <td>JamesJ.Corbett, PeterCourtney</td>\n",
       "      <td>NaN</td>\n",
       "      <td>NaN</td>\n",
       "      <td>United States</td>\n",
       "      <td>short</td>\n",
       "      <td>['1']</td>\n",
       "      <td>WilliamHeise, Short, Sport</td>\n",
       "      <td>WilliamHeise, Short, Sport James J. Corbett an...</td>\n",
       "    </tr>\n",
       "  </tbody>\n",
       "</table>\n",
       "</div>"
      ],
      "text/plain": [
       "                                                imdbID  \\\n",
       "tt0000013  The Photographical Congress Arrives in Lyon   \n",
       "tt0000005                             Blacksmith Scene   \n",
       "tt0000001                                   Carmencita   \n",
       "tt0000003                                 Poor Pierrot   \n",
       "tt0000007  Corbett and Courtney Before the Kinetograph   \n",
       "\n",
       "                                       Title  \\\n",
       "tt0000013                 Documentary, Short   \n",
       "tt0000005                      Short, Comedy   \n",
       "tt0000001                 Documentary, Short   \n",
       "tt0000003  Animation, Comedy, Short, Romance   \n",
       "tt0000007                       Short, Sport   \n",
       "\n",
       "                                                      Genres  \\\n",
       "tt0000013  The photographers who need to participate in t...   \n",
       "tt0000005  Three men hammer on an anvil and pass a bottle...   \n",
       "tt0000001  Performing on what looks like a small wooden s...   \n",
       "tt0000003  One night, Arlequin come to see his lover Colo...   \n",
       "tt0000007  James J. Corbett and Peter Courtney meet in a ...   \n",
       "\n",
       "                                       Plot                      Directors  \\\n",
       "tt0000013                      LouisLumière  AugusteLumière, P.J.C.Janssen   \n",
       "tt0000005                WilliamK.L.Dickson         CharlesKayser, JohnOtt   \n",
       "tt0000001                WilliamK.L.Dickson                     Carmencita   \n",
       "tt0000003                      ÉmileReynaud                            NaN   \n",
       "tt0000007  WilliamK.L.Dickson, WilliamHeise  JamesJ.Corbett, PeterCourtney   \n",
       "\n",
       "          Writers Actors       Language Country Runtime  \\\n",
       "tt0000013     NaN    NaN         France   movie   ['1']   \n",
       "tt0000005     NaN    NaN  United States   short   ['1']   \n",
       "tt0000001     NaN    NaN  United States   short   ['1']   \n",
       "tt0000003     NaN    NaN         France   short   ['4']   \n",
       "tt0000007     NaN    NaN  United States   short   ['1']   \n",
       "\n",
       "                                                  Keywords  \\\n",
       "tt0000013                 LouisLumière, Documentary, Short   \n",
       "tt0000005                                    Short, Comedy   \n",
       "tt0000001                               Documentary, Short   \n",
       "tt0000003  ÉmileReynaud, Animation, Comedy, Short, Romance   \n",
       "tt0000007                       WilliamHeise, Short, Sport   \n",
       "\n",
       "                                                        Tags  \n",
       "tt0000013  LouisLumière, Documentary, Short The photograp...  \n",
       "tt0000005  Short, Comedy Three men hammer on an anvil and...  \n",
       "tt0000001  Documentary, Short Performing on what looks li...  \n",
       "tt0000003  ÉmileReynaud, Animation, Comedy, Short, Romanc...  \n",
       "tt0000007  WilliamHeise, Short, Sport James J. Corbett an...  "
      ]
     },
     "execution_count": 10,
     "metadata": {},
     "output_type": "execute_result"
    }
   ],
   "source": [
    "movies['Tags'] = movies[['Keywords', 'Genres', 'Directors', 'Writers', 'Actors', 'Language', 'Country']].apply(lambda x: ' '.join(map(str, x)), axis=1)\n",
    "movies.head()"
   ]
  },
  {
   "cell_type": "markdown",
   "metadata": {},
   "source": [
    "# [scikit-learn](https://scikit-learn.org)\n",
    "`scikit-learn` is a Python module for **MACHINE LEARNING** built on top of SciPy and is distributed under the 3-Clause BSD license.\n",
    "\n",
    "The project was started in 2007 by David Cournapeau as a Google Summer of Code project, and since then many volunteers have contributed. See the [About us](https://scikit-learn.org/dev/about.html#authors) page for a list of core contributors."
   ]
  },
  {
   "cell_type": "code",
   "execution_count": 4,
   "metadata": {},
   "outputs": [
    {
     "name": "stdout",
     "output_type": "stream",
     "text": [
      "Name: sklearn\n",
      "Version: 0.0.post9\n",
      "Summary: deprecated sklearn package, use scikit-learn instead\n",
      "Home-page: \n",
      "Author: \n",
      "Author-email: \n",
      "License: \n",
      "Location: C:\\Users\\anujj\\AppData\\Local\\Programs\\Python\\Python311\\Lib\\site-packages\n",
      "Requires: \n",
      "Required-by: \n"
     ]
    }
   ],
   "source": [
    "try:\n",
    "    !pip show sklearn\n",
    "except ImportError:\n",
    "    !pip install scikit-learn"
   ]
  },
  {
   "cell_type": "markdown",
   "metadata": {},
   "source": [
    "## [sklearn.feature_extraction.text.CountVectorizer](https://scikit-learn.org/stable/modules/generated/sklearn.feature_extraction.text.CountVectorizer.html)\n",
    "`CountVectorizer` converts a collection of text documents to a matrix of token counts.\n",
    "\n",
    "This implementation produces a sparse representation of the counts using scipy.sparse.csr_matrix.\n",
    "\n",
    "If you do not provide an a-priori dictionary and you do not use an analyzer that does some kind of feature selection then the number of features will be equal to the vocabulary size found by analyzing the data."
   ]
  },
  {
   "cell_type": "markdown",
   "metadata": {},
   "source": [
    "## [sklearn.metrics.pairwise.cosine_similarity](https://scikit-learn.org/stable/modules/generated/sklearn.metrics.pairwise.cosine_similarity.html)\n",
    "`cosine_similarity` computes the L2-normalized dot product of vectors. That is, if **x** and **y** are row vectors, their cosine similarity **k** is defined as:\n",
    " $$k(x, y) = \\frac{x y^\\top}{\\|x\\| \\|y\\|}$$\n",
    "\n",
    " \n",
    "This is called cosine similarity, because Euclidean (L2) normalization projects the vectors onto the unit sphere, and their dot product is then the cosine of the angle between the points denoted by the vectors."
   ]
  },
  {
   "cell_type": "code",
   "execution_count": 26,
   "metadata": {},
   "outputs": [],
   "source": [
    "from sklearn.feature_extraction.text import CountVectorizer\n",
    "from sklearn.metrics.pairwise import cosine_similarity"
   ]
  },
  {
   "cell_type": "code",
   "execution_count": 15,
   "metadata": {},
   "outputs": [],
   "source": [
    "# Create a sparse matrix\n",
    "cv = CountVectorizer(max_features=1000, stop_words='english')\n",
    "vector = cv.fit_transform(movies['Tags'])\n",
    "\n",
    "n = vector.shape[0]\n",
    "chunk_size = 1000       #Define the chunk size\n",
    "N = 10                  # Number of top similar vectors to store\n",
    "similarityVector = {}   # Calculate cosine similarity in chunks and populate the top N similar vectors"
   ]
  },
  {
   "cell_type": "code",
   "execution_count": 16,
   "metadata": {},
   "outputs": [],
   "source": [
    "# A generator to calculate cosine similarity\n",
    "def calculate_cosine_similarity(vector):\n",
    "    n = vector.shape[0]\n",
    "    for i in range(0, n, chunk_size):\n",
    "        end = min(i + chunk_size, n)\n",
    "        similarity_chunk = cosine_similarity(vector[i:end], vector)\n",
    "        yield similarity_chunk"
   ]
  },
  {
   "cell_type": "code",
   "execution_count": 17,
   "metadata": {},
   "outputs": [],
   "source": [
    "for i, similarity_chunk in enumerate(calculate_cosine_similarity(vector)):\n",
    "    start = i * chunk_size\n",
    "    end = min((i + 1) * chunk_size, n)\n",
    "    for j in range(start, end):\n",
    "        similarity_vector = similarity_chunk[j - start]\n",
    "        # Get the indices of the top N most similar vectors\n",
    "        top_n_indices = np.argpartition(similarity_vector, -N)[-N:]\n",
    "        # Store the indices and their corresponding similarities\n",
    "        similarityVector[j] = [(index, similarity_vector[index]) for index in top_n_indices]"
   ]
  },
  {
   "cell_type": "code",
   "execution_count": 22,
   "metadata": {},
   "outputs": [],
   "source": [
    "def recommend(similarityVector, movies, movie):\n",
    "    if movie in movies['Title'].values:\n",
    "        index = movies[movies['Title'] == movie].index[0]\n",
    "        distances = similarityVector[index]\n",
    "        distances.sort(key=lambda x: x[1], reverse=True)\n",
    "        recommended_movies = [movies.iloc[i[0]]['Title'] for i in distances]\n",
    "        return recommended_movies\n",
    "    else:\n",
    "        return f\"Movie '{movie}' not found in the database.\""
   ]
  },
  {
   "cell_type": "code",
   "execution_count": 27,
   "metadata": {},
   "outputs": [],
   "source": [
    "import pickle\n",
    "import os\n",
    "\n",
    "os.makedirs('models', exist_ok=True)\n",
    "\n",
    "with open('models/movieList.pkl', 'wb') as movieFile:\n",
    "    pickle.dump(movies, movieFile)\n",
    "\n",
    "with open('models/similarity.pkl', 'wb') as similarityFile:\n",
    "    pickle.dump(similarityVector, similarityFile)"
   ]
  },
  {
   "cell_type": "code",
   "execution_count": 28,
   "metadata": {},
   "outputs": [
    {
     "data": {
      "text/plain": [
       "['Carmencita',\n",
       " 'A Colour Box',\n",
       " 'Edison Kinetoscopic Record of a Sneeze',\n",
       " 'The X-Ray Fiend',\n",
       " 'Diagonal Symphony',\n",
       " 'New York Subway',\n",
       " \"Autour d'une cabine\",\n",
       " 'Rain',\n",
       " \"Cordeliers' Square in Lyon\",\n",
       " 'Blacksmith Scene']"
      ]
     },
     "execution_count": 28,
     "metadata": {},
     "output_type": "execute_result"
    }
   ],
   "source": [
    "recommend(similarityVector, movies, 'Carmencita')"
   ]
  },
  {
   "cell_type": "code",
   "execution_count": null,
   "metadata": {},
   "outputs": [],
   "source": []
  }
 ],
 "metadata": {
  "kernelspec": {
   "display_name": "Python 3 (ipykernel)",
   "language": "python",
   "name": "python3"
  },
  "language_info": {
   "codemirror_mode": {
    "name": "ipython",
    "version": 3
   },
   "file_extension": ".py",
   "mimetype": "text/x-python",
   "name": "python",
   "nbconvert_exporter": "python",
   "pygments_lexer": "ipython3",
   "version": "3.11.5"
  }
 },
 "nbformat": 4,
 "nbformat_minor": 5
}
