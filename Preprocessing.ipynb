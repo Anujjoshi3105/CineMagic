{
 "cells": [
  {
   "cell_type": "markdown",
   "metadata": {},
   "source": [
    "# MOVIE DATA COLLECTION"
   ]
  },
  {
   "cell_type": "markdown",
   "metadata": {},
   "source": [
    "`MOVIES with VOTES >= 700 to maintain credability`"
   ]
  },
  {
   "cell_type": "code",
   "execution_count": 1,
   "metadata": {},
   "outputs": [
    {
     "data": {
      "text/plain": [
       "['title.ratings.tsv', 'title.ratings.tsv.gz']"
      ]
     },
     "execution_count": 1,
     "metadata": {},
     "output_type": "execute_result"
    }
   ],
   "source": [
    "import os\n",
    "\n",
    "# Create 'datasets' folder if not exist\n",
    "os.makedirs('datasets/imdb', exist_ok=True)\n",
    "\n",
    "# List content of 'datasets' folder\n",
    "os.listdir('datasets/imdb')"
   ]
  },
  {
   "cell_type": "markdown",
   "metadata": {},
   "source": [
    "`Download title.ratings.tsv if not exist; otherwise skip`"
   ]
  },
  {
   "cell_type": "code",
   "execution_count": null,
   "id": "742ad7a4-7f8c-4598-b2f4-4747768ef10f",
   "metadata": {},
   "outputs": [],
   "source": [
    "import urllib.request\n",
    "import gzip\n",
    "\n",
    "file_path = 'datasets/imdb/title.ratings.tsv'\n",
    "\n",
    "# To download and unzip the rating file\n",
    "if not os.path.isfile(file_path):\n",
    "    url = 'https://datasets.imdbws.com/title.ratings.tsv.gz'\n",
    "    urllib.request.urlretrieve(url, f'{file_path}.gz')\n",
    "    \n",
    "    with gzip.open(f'{file_path}.gz', 'rb') as compressed_file, open(file_path, 'wb') as decompressed_file:\n",
    "        decompressed_file.write(compressed_file.read())\n",
    "\n",
    "os.listdir('datasets/imdb')"
   ]
  },
  {
   "cell_type": "markdown",
   "id": "805246e6",
   "metadata": {},
   "source": [
    "## `IMDb non-commercial datasets for personal use`\n",
    "These datasets are available in gzipped tab-separated-values (TSV) format and can be accessed from [IMDB datasets](https://datasets.imdbws.com/)\n",
    "\n",
    "1. **title.akas.tsv.gz**\n",
    "2. **title.basics.tsv.gz**\n",
    "3. **title.crew.tsv.gz**\n",
    "4. **title.episode.tsv.gz**\n",
    "5. **title.principals.tsv.gz**\n",
    "6. **title.ratings.tsv.gz**\n",
    "7. **name.basics.tsv.gz**\n",
    "\n",
    "You can access and download these datasets from the provided link and use them for personal, non-commercial purposes in accordance with IMDb's terms and conditions. Make sure to verify your compliance with their non-commercial licensing and copyright/license terms."
   ]
  },
  {
   "cell_type": "markdown",
   "id": "c4605368",
   "metadata": {},
   "source": [
    "# `Disclaimer of Warranties and Limitation of Liability`\n",
    "THE IMDB SERVICES AND ALL INFORMATION, CONTENT, MATERIALS, PRODUCTS (INCLUDING SOFTWARE) AND OTHER SERVICES INCLUDED ON OR OTHERWISE MADE AVAILABLE TO YOU THROUGH THE IMDB SERVICES ARE PROVIDED BY IMDB ON AN \"AS IS\" AND \"AS AVAILABLE\" BASIS. IMDB MAKES NO REPRESENTATIONS OR WARRANTIES OF ANY KIND, EXPRESS OR IMPLIED, AS TO THE OPERATION OF THE IMDB SERVICES OR THE INFORMATION, CONTENT, MATERIALS, PRODUCTS (INCLUDING SOFTWARE) OR OTHER SERVICES INCLUDED ON OR OTHERWISE MADE AVAILABLE TO YOU THROUGH THE IMDB SERVICES. YOU EXPRESSLY AGREE THAT YOUR USE OF THE IMDB SERVICES IS AT YOUR SOLE RISK. IMDB RESERVES THE RIGHT TO WITHDRAW ANY IMDB SERVICE OR DELETE ANY INFORMATION FROM THE IMDB SERVICES AT ANY TIME IN ITS DISCRETION.\n",
    "\n",
    "TO THE FULL EXTENT PERMISSIBLE BY APPLICABLE LAW, IMDB DISCLAIMS ALL WARRANTIES, EXPRESS OR IMPLIED, INCLUDING, BUT NOT LIMITED TO, IMPLIED WARRANTIES OF MERCHANTABILITY AND FITNESS FOR A PARTICULAR PURPOSE. IMDB DOES NOT WARRANT THAT THE IMDB SERVICES, INFORMATION, CONTENT, MATERIALS, PRODUCTS (INCLUDING SOFTWARE) OR OTHER SERVICES INCLUDED ON OR OTHERWISE MADE AVAILABLE TO YOU THROUGH THE IMDB SERVICES, ITS SERVERS, OR ELECTRONIC COMMUNICATIONS SENT FROM IMDB ARE FREE OF VIRUSES OR OTHER HARMFUL COMPONENTS. IMDB WILL NOT BE LIABLE FOR ANY DAMAGES OF ANY KIND ARISING FROM THE USE OF ANY IMDB SERVICE, OR FROM ANY INFORMATION, CONTENT, MATERIALS, PRODUCTS (INCLUDING SOFTWARE) OR OTHER SERVICES INCLUDED ON OR OTHERWISE MADE AVAILABLE TO YOU THROUGH ANY IMDB SERVICE, INCLUDING, BUT NOT LIMITED TO DIRECT, INDIRECT, INCIDENTAL, PUNITIVE, AND CONSEQUENTIAL DAMAGES.\n",
    "\n",
    "CERTAIN STATE LAWS DO NOT ALLOW LIMITATIONS ON IMPLIED WARRANTIES OR THE EXCLUSION OR LIMITATION OF CERTAIN DAMAGES. IF THESE LAWS APPLY TO YOU, SOME OR ALL OF THE ABOVE DISCLAIMERS, EXCLUSIONS, OR LIMITATIONS MAY NOT APPLY TO YOU, AND YOU MIGHT HAVE ADDITIONAL RIGHTS.\n",
    "\n",
    "IMDb Software Terms In addition to these Conditions of Use, the terms found here apply to any software (including any updates or upgrades to the software and any related documentation) that we make available to you from time to time for your use in connection with IMDb Services (“IMDb Software”). If we provide specific Terms for the IMDb Software and there is a conflict between the specific Terms for the IMDb Software and these Conditions of Use, the specific Terms for the IMDb Software will govern."
   ]
  },
  {
   "cell_type": "code",
   "execution_count": null,
   "id": "45853ef2-d129-4032-b9ca-2707eeb895a5",
   "metadata": {},
   "outputs": [],
   "source": [
    "import pandas as pd\n",
    "\n",
    "df = pd.read_csv('datasets/imdb/title.ratings.tsv', sep='\\t')\n",
    "df.head()"
   ]
  },
  {
   "cell_type": "code",
   "execution_count": null,
   "id": "c352fd7d-905e-4203-929f-2c9b14f28c81",
   "metadata": {},
   "outputs": [],
   "source": [
    "votes = df[df['numVotes'] >= 700]\n",
    "votes.shape"
   ]
  },
  {
   "cell_type": "code",
   "execution_count": null,
   "metadata": {},
   "outputs": [],
   "source": [
    "moviesID = votes['tconst'].tolist()"
   ]
  },
  {
   "cell_type": "markdown",
   "metadata": {},
   "source": [
    "## [Cinemagoer](https://cinemagoer.github.io/)\n",
    "`Cinemagoer` (previously known as IMDbPY) is a Python package for retrieving and managing data from the [IMDb](https://www.imdb.com/)\n",
    " movie database, including information about movies, people, and companies. \n",
    " Please note that this project and its authors are not affiliated in any way with Internet Movie Database Inc. for details about data licenses, please refer to the [DISCLAIMER](https://raw.githubusercontent.com/cinemagoer/cinemagoer/master/DISCLAIMER.txt) and [DOCUMENTATION](https://readthedocs.org/projects/imdbpy/downloads/pdf/latest/)\n"
   ]
  },
  {
   "cell_type": "code",
   "execution_count": null,
   "metadata": {},
   "outputs": [],
   "source": [
    "try:\n",
    "    !pip show Cinemagoer\n",
    "except ImportError:\n",
    "    !pip install git+https://github.com/cinemagoer/cinemagoer"
   ]
  },
  {
   "cell_type": "code",
   "execution_count": null,
   "metadata": {},
   "outputs": [],
   "source": [
    "from imdb import Cinemagoer\n",
    "imdbClient = Cinemagoer()\n",
    "\n",
    "import os\n",
    "os.makedirs('datasets/logs', exist_ok=True)\n",
    "\n",
    "import logging\n",
    "logging.basicConfig(filename='datasets/logs/movieScore.log', level=logging.ERROR)"
   ]
  },
  {
   "cell_type": "code",
   "execution_count": null,
   "metadata": {},
   "outputs": [],
   "source": [
    "pid = set()\n",
    "\n",
    "try:\n",
    "    pid.update(pd.read_csv('datasets/movieInfo.csv')['imdbID'])\n",
    "except FileNotFoundError:\n",
    "    header = pd.DataFrame(columns=['imdbID', 'Title', 'Genres', 'Plot', 'Directors', 'Writers', 'Actors', 'Language', 'Country', 'Kind', 'Runtime'])\n",
    "    header.to_csv('datasets/movieInfo.csv', index=False)"
   ]
  },
  {
   "cell_type": "markdown",
   "metadata": {},
   "source": [
    "`imdbID, Title, Genres, Plot, Directors, Writers, Actors, Language, Country, Kind, Runtime`"
   ]
  },
  {
   "cell_type": "code",
   "execution_count": null,
   "metadata": {},
   "outputs": [],
   "source": [
    "# Iterate through the list of IMDb IDs\n",
    "def fetchData(imdbID):\n",
    "    try:\n",
    "        movie = imdbClient.get_movie(imdbID[2:])\n",
    "        if movie:\n",
    "            # Create a dictionary with the movie data\n",
    "            movieData = pd.DataFrame([{\n",
    "                'imdbID': imdbID,\n",
    "                'Title': movie.get('title', 'N/A'),\n",
    "                'Genres': ', '.join(movie.get('genres', [])),\n",
    "                'Plot': ', '.join(movie.get('plot', [])),\n",
    "                'Directors': ', '.join([director.get('name', '') for director in movie.get('directors', [])]),\n",
    "                'Actors': ', '.join([actor.get('name', '') for actor in movie.get('cast', [])]),\n",
    "                'Writers': ', '.join([writer.get('name', '') for writer in movie.get('writer', [])]),\n",
    "                'Language': ', '.join(language for language in movie.get('language') if language and language.lower() != 'none'),\n",
    "                'Country': ', '.join(movie.get('country', [])),\n",
    "                'Kind': movie.get('kind', 'N/A'),\n",
    "                'Runtime': movie.get('runtime', 'N/A')[0]\n",
    "            }])\n",
    "\n",
    "            # Append the movie data to the CSV file\n",
    "            movieData.to_csv('datasets/movieInfo.csv', mode='a', header=False, index=False)\n",
    "\n",
    "    except Exception as e:\n",
    "        logging.error(f'IMDB ID: {imdbID} Error: {e}')"
   ]
  },
  {
   "cell_type": "code",
   "execution_count": null,
   "metadata": {},
   "outputs": [],
   "source": [
    "from concurrent.futures import ThreadPoolExecutor\n",
    "from queue import Queue\n",
    "\n",
    "# A ThreadPoolExecutor to fetch data concurrently\n",
    "with ThreadPoolExecutor(max_workers=8) as executor:\n",
    "    queue = Queue()\n",
    "\n",
    "    for imdbID in moviesID:\n",
    "        if imdbID not in pid:\n",
    "            queue.put(imdbID)\n",
    "        while not queue.empty():\n",
    "            imdbID = queue.get()\n",
    "            executor.submit(fetchData, imdbID)\n",
    "\n",
    "print('Data stored successfully !!!')"
   ]
  },
  {
   "cell_type": "code",
   "execution_count": 66,
   "metadata": {},
   "outputs": [],
   "source": [
    "import pandas as pd"
   ]
  },
  {
   "cell_type": "code",
   "execution_count": 67,
   "metadata": {},
   "outputs": [
    {
     "data": {
      "text/html": [
       "<div>\n",
       "<style scoped>\n",
       "    .dataframe tbody tr th:only-of-type {\n",
       "        vertical-align: middle;\n",
       "    }\n",
       "\n",
       "    .dataframe tbody tr th {\n",
       "        vertical-align: top;\n",
       "    }\n",
       "\n",
       "    .dataframe thead th {\n",
       "        text-align: right;\n",
       "    }\n",
       "</style>\n",
       "<table border=\"1\" class=\"dataframe\">\n",
       "  <thead>\n",
       "    <tr style=\"text-align: right;\">\n",
       "      <th></th>\n",
       "      <th>imdbID</th>\n",
       "      <th>Title</th>\n",
       "      <th>Genres</th>\n",
       "      <th>Plot</th>\n",
       "      <th>Directors</th>\n",
       "      <th>Writers</th>\n",
       "      <th>Actors</th>\n",
       "      <th>Language</th>\n",
       "      <th>Country</th>\n",
       "      <th>Kind</th>\n",
       "      <th>Runtime</th>\n",
       "    </tr>\n",
       "  </thead>\n",
       "  <tbody>\n",
       "    <tr>\n",
       "      <th>0</th>\n",
       "      <td>tt2178784</td>\n",
       "      <td>The Rains of Castamere</td>\n",
       "      <td>Action, Adventure, Drama, Fantasy</td>\n",
       "      <td>Robb and Catelyn arrive at the Twins for the w...</td>\n",
       "      <td>David Nutter</td>\n",
       "      <td>Emilia Clarke, Kit Harington, Richard Madden, ...</td>\n",
       "      <td>George R.R. Martin, , David Benioff, D.B. Weis...</td>\n",
       "      <td>English</td>\n",
       "      <td>United States</td>\n",
       "      <td>episode</td>\n",
       "      <td>51</td>\n",
       "    </tr>\n",
       "    <tr>\n",
       "      <th>1</th>\n",
       "      <td>tt2301451</td>\n",
       "      <td>Ozymandias</td>\n",
       "      <td>Crime, Drama, Thriller</td>\n",
       "      <td>Walt goes on the run. Jesse is taken hostage. ...</td>\n",
       "      <td>Rian Johnson</td>\n",
       "      <td>Bryan Cranston, Anna Gunn, Aaron Paul, Dean No...</td>\n",
       "      <td>Vince Gilligan, , Moira Walley-Beckett</td>\n",
       "      <td>English</td>\n",
       "      <td>United States</td>\n",
       "      <td>episode</td>\n",
       "      <td>47</td>\n",
       "    </tr>\n",
       "    <tr>\n",
       "      <th>2</th>\n",
       "      <td>tt12187040</td>\n",
       "      <td>Plan and Execution</td>\n",
       "      <td>Crime, Drama</td>\n",
       "      <td>Jimmy and Kim deal with a last-minute snag in ...</td>\n",
       "      <td>Thomas Schnauz</td>\n",
       "      <td>Bob Odenkirk, Jonathan Banks, Rhea Seehorn, Pa...</td>\n",
       "      <td>Vince Gilligan, Peter Gould, , Thomas Schnauz</td>\n",
       "      <td>English, Spanish</td>\n",
       "      <td>United States</td>\n",
       "      <td>episode</td>\n",
       "      <td>50</td>\n",
       "    </tr>\n",
       "    <tr>\n",
       "      <th>3</th>\n",
       "      <td>tt2301455</td>\n",
       "      <td>Felina</td>\n",
       "      <td>Crime, Drama, Thriller</td>\n",
       "      <td>Walter White returns to Albuquerque one last t...</td>\n",
       "      <td>Vince Gilligan</td>\n",
       "      <td>Bryan Cranston, Anna Gunn, Aaron Paul, Dean No...</td>\n",
       "      <td>Vince Gilligan, , Vince Gilligan</td>\n",
       "      <td>English</td>\n",
       "      <td>United States</td>\n",
       "      <td>episode</td>\n",
       "      <td>55</td>\n",
       "    </tr>\n",
       "    <tr>\n",
       "      <th>4</th>\n",
       "      <td>tt21151974</td>\n",
       "      <td>Connor's Wedding</td>\n",
       "      <td>Comedy, Drama</td>\n",
       "      <td>While Logan doles out an unsavory task ahead o...</td>\n",
       "      <td>Mark Mylod</td>\n",
       "      <td>Nicholas Braun, Brian Cox, Kieran Culkin, Dagm...</td>\n",
       "      <td>Jesse Armstrong, , Jesse Armstrong, , Miriam B...</td>\n",
       "      <td>English</td>\n",
       "      <td>United States</td>\n",
       "      <td>episode</td>\n",
       "      <td>62</td>\n",
       "    </tr>\n",
       "  </tbody>\n",
       "</table>\n",
       "</div>"
      ],
      "text/plain": [
       "       imdbID                   Title                             Genres  \\\n",
       "0   tt2178784  The Rains of Castamere  Action, Adventure, Drama, Fantasy   \n",
       "1   tt2301451              Ozymandias             Crime, Drama, Thriller   \n",
       "2  tt12187040      Plan and Execution                       Crime, Drama   \n",
       "3   tt2301455                  Felina             Crime, Drama, Thriller   \n",
       "4  tt21151974        Connor's Wedding                      Comedy, Drama   \n",
       "\n",
       "                                                Plot       Directors  \\\n",
       "0  Robb and Catelyn arrive at the Twins for the w...    David Nutter   \n",
       "1  Walt goes on the run. Jesse is taken hostage. ...    Rian Johnson   \n",
       "2  Jimmy and Kim deal with a last-minute snag in ...  Thomas Schnauz   \n",
       "3  Walter White returns to Albuquerque one last t...  Vince Gilligan   \n",
       "4  While Logan doles out an unsavory task ahead o...      Mark Mylod   \n",
       "\n",
       "                                             Writers  \\\n",
       "0  Emilia Clarke, Kit Harington, Richard Madden, ...   \n",
       "1  Bryan Cranston, Anna Gunn, Aaron Paul, Dean No...   \n",
       "2  Bob Odenkirk, Jonathan Banks, Rhea Seehorn, Pa...   \n",
       "3  Bryan Cranston, Anna Gunn, Aaron Paul, Dean No...   \n",
       "4  Nicholas Braun, Brian Cox, Kieran Culkin, Dagm...   \n",
       "\n",
       "                                              Actors          Language  \\\n",
       "0  George R.R. Martin, , David Benioff, D.B. Weis...           English   \n",
       "1             Vince Gilligan, , Moira Walley-Beckett           English   \n",
       "2      Vince Gilligan, Peter Gould, , Thomas Schnauz  English, Spanish   \n",
       "3                   Vince Gilligan, , Vince Gilligan           English   \n",
       "4  Jesse Armstrong, , Jesse Armstrong, , Miriam B...           English   \n",
       "\n",
       "         Country     Kind Runtime  \n",
       "0  United States  episode      51  \n",
       "1  United States  episode      47  \n",
       "2  United States  episode      50  \n",
       "3  United States  episode      55  \n",
       "4  United States  episode      62  "
      ]
     },
     "execution_count": 67,
     "metadata": {},
     "output_type": "execute_result"
    }
   ],
   "source": [
    "movieData = pd.read_csv('datasets/movieScore.csv')\n",
    "movieData.head()"
   ]
  },
  {
   "cell_type": "code",
   "execution_count": 68,
   "metadata": {},
   "outputs": [
    {
     "data": {
      "text/plain": [
       "(5242, 11)"
      ]
     },
     "execution_count": 68,
     "metadata": {},
     "output_type": "execute_result"
    }
   ],
   "source": [
    "movieData.shape"
   ]
  },
  {
   "cell_type": "code",
   "execution_count": 69,
   "metadata": {},
   "outputs": [],
   "source": [
    "df = movieData[movieData['Kind']=='movie']"
   ]
  },
  {
   "cell_type": "code",
   "execution_count": 70,
   "metadata": {},
   "outputs": [
    {
     "data": {
      "text/plain": [
       "176"
      ]
     },
     "execution_count": 70,
     "metadata": {},
     "output_type": "execute_result"
    }
   ],
   "source": [
    "len(df)"
   ]
  },
  {
   "cell_type": "code",
   "execution_count": null,
   "metadata": {},
   "outputs": [],
   "source": []
  }
 ],
 "metadata": {
  "kernelspec": {
   "display_name": "Python 3 (ipykernel)",
   "language": "python",
   "name": "python3"
  },
  "language_info": {
   "codemirror_mode": {
    "name": "ipython",
    "version": 3
   },
   "file_extension": ".py",
   "mimetype": "text/x-python",
   "name": "python",
   "nbconvert_exporter": "python",
   "pygments_lexer": "ipython3",
   "version": "3.11.5"
  }
 },
 "nbformat": 4,
 "nbformat_minor": 5
}
